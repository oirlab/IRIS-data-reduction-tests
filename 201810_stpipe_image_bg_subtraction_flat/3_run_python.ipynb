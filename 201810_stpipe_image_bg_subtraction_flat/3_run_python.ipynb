{
 "cells": [
  {
   "cell_type": "markdown",
   "metadata": {},
   "source": [
    "# Run in Python\n",
    "\n",
    "## Use the call method with files\n",
    "\n",
    "The first way is basically equivalent to executing `strun` we get the pipeline object and execute the `call` method passing the configuration file and the input Association/data:"
   ]
  },
  {
   "cell_type": "code",
   "execution_count": 1,
   "metadata": {},
   "outputs": [
    {
     "name": "stderr",
     "output_type": "stream",
     "text": [
      "2018-10-23 19:58:29,711 - stpipe - WARNING - /home/azonca/anaconda3/envs/jwst_dev/lib/python3.6/site-packages/photutils/background/core.py:71: AstropyDeprecationWarning: \"iters\" was deprecated in version 3.1 and will be removed in a future version. Use argument \"maxiters\" instead.\n",
      "  def __init__(self, sigma_clip=SigmaClip(sigma=3., iters=5)):\n",
      "\n",
      "2018-10-23 19:58:29,714 - stpipe - WARNING - /home/azonca/anaconda3/envs/jwst_dev/lib/python3.6/site-packages/photutils/background/core.py:114: AstropyDeprecationWarning: \"iters\" was deprecated in version 3.1 and will be removed in a future version. Use argument \"maxiters\" instead.\n",
      "  def __init__(self, sigma_clip=SigmaClip(sigma=3., iters=5)):\n",
      "\n",
      "2018-10-23 19:58:29,717 - stpipe - WARNING - /home/azonca/anaconda3/envs/jwst_dev/lib/python3.6/site-packages/photutils/background/background_2d.py:285: AstropyDeprecationWarning: \"iters\" was deprecated in version 3.1 and will be removed in a future version. Use argument \"maxiters\" instead.\n",
      "  sigma_clip=SigmaClip(sigma=3., iters=10),\n",
      "\n"
     ]
    }
   ],
   "source": [
    "from jwst.pipeline import Image2Pipeline"
   ]
  },
  {
   "cell_type": "code",
   "execution_count": 2,
   "metadata": {},
   "outputs": [
    {
     "name": "stderr",
     "output_type": "stream",
     "text": [
      "2018-10-23 19:58:29,800 - stpipe.Image2Pipeline - INFO - Image2Pipeline instance created.\n",
      "2018-10-23 19:58:29,803 - stpipe.Image2Pipeline.bkg_subtract - INFO - BackgroundStep instance created.\n",
      "2018-10-23 19:58:29,805 - stpipe.Image2Pipeline.assign_wcs - INFO - AssignWcsStep instance created.\n",
      "2018-10-23 19:58:29,808 - stpipe.Image2Pipeline.flat_field - INFO - FlatFieldStep instance created.\n",
      "2018-10-23 19:58:29,809 - stpipe.Image2Pipeline.photom - INFO - PhotomStep instance created.\n",
      "2018-10-23 19:58:29,812 - stpipe.Image2Pipeline.resample - INFO - ResampleStep instance created.\n",
      "2018-10-23 19:58:29,863 - stpipe.Image2Pipeline - INFO - Step Image2Pipeline running with args ('asn_subtract_bg_flat.json',).\n",
      "2018-10-23 19:58:29,980 - stpipe.Image2Pipeline - INFO - Prefetching reference files for dataset: 'sci.fits' reftypes = ['dflat', 'fflat', 'sflat', 'wavelengthrange', 'wfssbkg']\n",
      "2018-10-23 19:58:30,885 - stpipe.Image2Pipeline - INFO - Prefetch for DFLAT reference file is 'N/A'.\n",
      "2018-10-23 19:58:30,886 - stpipe.Image2Pipeline - INFO - Prefetch for FFLAT reference file is 'N/A'.\n",
      "2018-10-23 19:58:30,887 - stpipe.Image2Pipeline - INFO - Override for FLAT reference file is '/home/azonca/p/software/IRIS-data-reduction-tests/201810_stpipe_image_bg_subtraction_flat/flat.fits'.\n",
      "2018-10-23 19:58:30,888 - stpipe.Image2Pipeline - INFO - Prefetch for SFLAT reference file is 'N/A'.\n",
      "2018-10-23 19:58:30,889 - stpipe.Image2Pipeline - INFO - Prefetch for WAVELENGTHRANGE reference file is 'N/A'.\n",
      "2018-10-23 19:58:30,889 - stpipe.Image2Pipeline - INFO - Prefetch for WFSSBKG reference file is 'N/A'.\n",
      "2018-10-23 19:58:30,962 - stpipe.Image2Pipeline - INFO - Prefetching reference files for dataset: 'bg.fits' reftypes = ['dflat', 'fflat', 'sflat', 'wavelengthrange', 'wfssbkg']\n",
      "2018-10-23 19:58:30,964 - stpipe.Image2Pipeline - INFO - Prefetch for DFLAT reference file is 'N/A'.\n",
      "2018-10-23 19:58:30,965 - stpipe.Image2Pipeline - INFO - Prefetch for FFLAT reference file is 'N/A'.\n",
      "2018-10-23 19:58:30,966 - stpipe.Image2Pipeline - INFO - Override for FLAT reference file is '/home/azonca/p/software/IRIS-data-reduction-tests/201810_stpipe_image_bg_subtraction_flat/flat.fits'.\n",
      "2018-10-23 19:58:30,966 - stpipe.Image2Pipeline - INFO - Prefetch for SFLAT reference file is 'N/A'.\n",
      "2018-10-23 19:58:30,967 - stpipe.Image2Pipeline - INFO - Prefetch for WAVELENGTHRANGE reference file is 'N/A'.\n",
      "2018-10-23 19:58:30,968 - stpipe.Image2Pipeline - INFO - Prefetch for WFSSBKG reference file is 'N/A'.\n",
      "2018-10-23 19:58:30,968 - stpipe.Image2Pipeline - INFO - Starting calwebb_image2 ...\n",
      "2018-10-23 19:58:30,980 - stpipe.Image2Pipeline - INFO - Processing product test_iris_subtract_bg_flat\n",
      "2018-10-23 19:58:30,981 - stpipe.Image2Pipeline - INFO - Working on input sci.fits ...\n",
      "2018-10-23 19:58:31,125 - stpipe.Image2Pipeline.bkg_subtract - INFO - Step bkg_subtract running with args (<ImageModel(2048, 2048) from sci.fits>, ['bg.fits']).\n",
      "2018-10-23 19:58:32,388 - stpipe.Image2Pipeline.bkg_subtract - INFO - Step bkg_subtract done\n",
      "2018-10-23 19:58:32,441 - stpipe.Image2Pipeline.assign_wcs - INFO - Step assign_wcs running with args (<ImageModel(2048, 2048) from sci.fits>,).\n",
      "2018-10-23 19:58:32,442 - stpipe.Image2Pipeline.assign_wcs - INFO - Step skipped.\n",
      "2018-10-23 19:58:32,443 - stpipe.Image2Pipeline.assign_wcs - INFO - Step assign_wcs done\n",
      "2018-10-23 19:58:32,491 - stpipe.Image2Pipeline.flat_field - INFO - Step flat_field running with args (<ImageModel(2048, 2048) from sci.fits>,).\n",
      "2018-10-23 19:58:32,574 - stpipe.Image2Pipeline.flat_field - WARNING - Missing subarray corner/size keywords in reference file\n",
      "2018-10-23 19:58:32,575 - stpipe.Image2Pipeline.flat_field - WARNING - Setting them to full-frame default values\n",
      "2018-10-23 19:58:32,672 - stpipe.Image2Pipeline.flat_field - INFO - Step flat_field done\n",
      "2018-10-23 19:58:32,737 - stpipe.Image2Pipeline.photom - INFO - Step photom running with args (<ImageModel(2048, 2048) from sci.fits>,).\n",
      "2018-10-23 19:58:32,738 - stpipe.Image2Pipeline.photom - INFO - Step skipped.\n",
      "2018-10-23 19:58:32,740 - stpipe.Image2Pipeline.photom - INFO - Step photom done\n",
      "2018-10-23 19:58:32,784 - stpipe.Image2Pipeline.resample - INFO - Step resample running with args (<ImageModel(2048, 2048) from sci.fits>,).\n",
      "2018-10-23 19:58:32,785 - stpipe.Image2Pipeline.resample - INFO - Step skipped.\n",
      "2018-10-23 19:58:32,786 - stpipe.Image2Pipeline.resample - INFO - Step resample done\n",
      "2018-10-23 19:58:32,851 - stpipe.Image2Pipeline - INFO - Saved model in test_iris_subtract_bg_flat_i2d.fits\n",
      "2018-10-23 19:58:32,852 - stpipe.Image2Pipeline - INFO - Finished processing product test_iris_subtract_bg_flat\n",
      "2018-10-23 19:58:32,913 - stpipe.Image2Pipeline - INFO - Saved model in test_iris_subtract_bg_flat_cal.fits\n",
      "2018-10-23 19:58:32,962 - stpipe.Image2Pipeline - INFO - ... ending calwebb_image2\n",
      "2018-10-23 19:58:32,964 - stpipe.Image2Pipeline - INFO - Step Image2Pipeline done\n"
     ]
    }
   ],
   "source": [
    "Image2Pipeline.call(\"asn_subtract_bg_flat.json\", config_file=\"image2.cfg\")"
   ]
  },
  {
   "cell_type": "code",
   "execution_count": null,
   "metadata": {},
   "outputs": [],
   "source": []
  },
  {
   "cell_type": "markdown",
   "metadata": {},
   "source": [
    "## Use the call method with a configuration dictionary"
   ]
  },
  {
   "cell_type": "code",
   "execution_count": 3,
   "metadata": {},
   "outputs": [
    {
     "name": "stderr",
     "output_type": "stream",
     "text": [
      "2018-10-23 19:58:32,973 - stpipe.Image2Pipeline - INFO - Image2Pipeline instance created.\n",
      "2018-10-23 19:58:32,975 - stpipe.Image2Pipeline.bkg_subtract - INFO - BackgroundStep instance created.\n",
      "2018-10-23 19:58:32,977 - stpipe.Image2Pipeline.assign_wcs - INFO - AssignWcsStep instance created.\n",
      "2018-10-23 19:58:32,978 - stpipe.Image2Pipeline.flat_field - INFO - FlatFieldStep instance created.\n",
      "2018-10-23 19:58:32,979 - stpipe.Image2Pipeline.photom - INFO - PhotomStep instance created.\n",
      "2018-10-23 19:58:32,981 - stpipe.Image2Pipeline.resample - INFO - ResampleStep instance created.\n",
      "2018-10-23 19:58:33,021 - stpipe.Image2Pipeline - INFO - Step Image2Pipeline running with args ('asn_subtract_bg_flat.json',).\n",
      "2018-10-23 19:58:33,075 - stpipe.Image2Pipeline - INFO - Prefetching reference files for dataset: 'sci.fits' reftypes = ['dflat', 'fflat', 'sflat', 'wavelengthrange', 'wfssbkg']\n",
      "2018-10-23 19:58:33,077 - stpipe.Image2Pipeline - INFO - Prefetch for DFLAT reference file is 'N/A'.\n",
      "2018-10-23 19:58:33,077 - stpipe.Image2Pipeline - INFO - Prefetch for FFLAT reference file is 'N/A'.\n",
      "2018-10-23 19:58:33,078 - stpipe.Image2Pipeline - INFO - Override for FLAT reference file is '/home/azonca/p/software/IRIS-data-reduction-tests/201810_stpipe_image_bg_subtraction_flat/flat.fits'.\n",
      "2018-10-23 19:58:33,079 - stpipe.Image2Pipeline - INFO - Prefetch for SFLAT reference file is 'N/A'.\n",
      "2018-10-23 19:58:33,079 - stpipe.Image2Pipeline - INFO - Prefetch for WAVELENGTHRANGE reference file is 'N/A'.\n",
      "2018-10-23 19:58:33,080 - stpipe.Image2Pipeline - INFO - Prefetch for WFSSBKG reference file is 'N/A'.\n",
      "2018-10-23 19:58:33,119 - stpipe.Image2Pipeline - INFO - Prefetching reference files for dataset: 'bg.fits' reftypes = ['dflat', 'fflat', 'sflat', 'wavelengthrange', 'wfssbkg']\n",
      "2018-10-23 19:58:33,120 - stpipe.Image2Pipeline - INFO - Prefetch for DFLAT reference file is 'N/A'.\n",
      "2018-10-23 19:58:33,121 - stpipe.Image2Pipeline - INFO - Prefetch for FFLAT reference file is 'N/A'.\n",
      "2018-10-23 19:58:33,122 - stpipe.Image2Pipeline - INFO - Override for FLAT reference file is '/home/azonca/p/software/IRIS-data-reduction-tests/201810_stpipe_image_bg_subtraction_flat/flat.fits'.\n",
      "2018-10-23 19:58:33,122 - stpipe.Image2Pipeline - INFO - Prefetch for SFLAT reference file is 'N/A'.\n",
      "2018-10-23 19:58:33,123 - stpipe.Image2Pipeline - INFO - Prefetch for WAVELENGTHRANGE reference file is 'N/A'.\n",
      "2018-10-23 19:58:33,124 - stpipe.Image2Pipeline - INFO - Prefetch for WFSSBKG reference file is 'N/A'.\n",
      "2018-10-23 19:58:33,124 - stpipe.Image2Pipeline - INFO - Starting calwebb_image2 ...\n",
      "2018-10-23 19:58:33,130 - stpipe.Image2Pipeline - INFO - Processing product test_iris_subtract_bg_flat\n",
      "2018-10-23 19:58:33,131 - stpipe.Image2Pipeline - INFO - Working on input sci.fits ...\n",
      "2018-10-23 19:58:33,219 - stpipe.Image2Pipeline.bkg_subtract - INFO - Step bkg_subtract running with args (<ImageModel(2048, 2048) from sci.fits>, ['bg.fits']).\n",
      "2018-10-23 19:58:34,593 - stpipe.Image2Pipeline.bkg_subtract - INFO - Step bkg_subtract done\n",
      "2018-10-23 19:58:34,652 - stpipe.Image2Pipeline.assign_wcs - INFO - Step assign_wcs running with args (<ImageModel(2048, 2048) from sci.fits>,).\n",
      "2018-10-23 19:58:34,652 - stpipe.Image2Pipeline.assign_wcs - INFO - Step skipped.\n",
      "2018-10-23 19:58:34,654 - stpipe.Image2Pipeline.assign_wcs - INFO - Step assign_wcs done\n",
      "2018-10-23 19:58:34,697 - stpipe.Image2Pipeline.flat_field - INFO - Step flat_field running with args (<ImageModel(2048, 2048) from sci.fits>,).\n",
      "2018-10-23 19:58:34,777 - stpipe.Image2Pipeline.flat_field - WARNING - Missing subarray corner/size keywords in reference file\n",
      "2018-10-23 19:58:34,778 - stpipe.Image2Pipeline.flat_field - WARNING - Setting them to full-frame default values\n",
      "2018-10-23 19:58:34,877 - stpipe.Image2Pipeline.flat_field - INFO - Step flat_field done\n",
      "2018-10-23 19:58:34,931 - stpipe.Image2Pipeline.photom - INFO - Step photom running with args (<ImageModel(2048, 2048) from sci.fits>,).\n",
      "2018-10-23 19:58:34,932 - stpipe.Image2Pipeline.photom - INFO - Step skipped.\n",
      "2018-10-23 19:58:34,933 - stpipe.Image2Pipeline.photom - INFO - Step photom done\n",
      "2018-10-23 19:58:34,970 - stpipe.Image2Pipeline.resample - INFO - Step resample running with args (<ImageModel(2048, 2048) from sci.fits>,).\n",
      "2018-10-23 19:58:34,970 - stpipe.Image2Pipeline.resample - INFO - Step skipped.\n",
      "2018-10-23 19:58:34,971 - stpipe.Image2Pipeline.resample - INFO - Step resample done\n",
      "2018-10-23 19:58:35,025 - stpipe.Image2Pipeline - INFO - Saved model in test_iris_subtract_bg_flat_i2d.fits\n",
      "2018-10-23 19:58:35,025 - stpipe.Image2Pipeline - INFO - Finished processing product test_iris_subtract_bg_flat\n",
      "2018-10-23 19:58:35,086 - stpipe.Image2Pipeline - INFO - Saved model in test_iris_subtract_bg_flat_cal.fits\n",
      "2018-10-23 19:58:35,135 - stpipe.Image2Pipeline - INFO - ... ending calwebb_image2\n",
      "2018-10-23 19:58:35,136 - stpipe.Image2Pipeline - INFO - Step Image2Pipeline done\n"
     ]
    }
   ],
   "source": [
    "steps = {\n",
    "    \"bkg_subtract\": {},\n",
    "    \"assign_wcs\":{\"skip\":True},\n",
    "    \"photom\":{\"skip\":True},\n",
    "    \"flat_field\":{\"override_flat\":\"flat.fits\"},\n",
    "    \"resample\":{\"skip\":True}\n",
    "}\n",
    "\n",
    "pipeline = Image2Pipeline.call(\"asn_subtract_bg_flat.json\", steps=steps)"
   ]
  },
  {
   "cell_type": "markdown",
   "metadata": {},
   "source": [
    "## Instantiate the pipeline class, configure and then `run`"
   ]
  },
  {
   "cell_type": "code",
   "execution_count": 4,
   "metadata": {},
   "outputs": [],
   "source": [
    "skip = { k : {\"skip\":True} for k in [\"assign_wcs\", \"photom\", \"resample\"] }"
   ]
  },
  {
   "cell_type": "code",
   "execution_count": 5,
   "metadata": {},
   "outputs": [
    {
     "data": {
      "text/plain": [
       "{'assign_wcs': {'skip': True},\n",
       " 'photom': {'skip': True},\n",
       " 'resample': {'skip': True}}"
      ]
     },
     "execution_count": 5,
     "metadata": {},
     "output_type": "execute_result"
    }
   ],
   "source": [
    "skip"
   ]
  },
  {
   "cell_type": "code",
   "execution_count": 6,
   "metadata": {},
   "outputs": [
    {
     "name": "stderr",
     "output_type": "stream",
     "text": [
      "2018-10-23 19:58:35,155 - stpipe.Image2Pipeline - INFO - Image2Pipeline instance created.\n",
      "2018-10-23 19:58:35,156 - stpipe.Image2Pipeline.bkg_subtract - INFO - BackgroundStep instance created.\n",
      "2018-10-23 19:58:35,157 - stpipe.Image2Pipeline.assign_wcs - INFO - AssignWcsStep instance created.\n",
      "2018-10-23 19:58:35,159 - stpipe.Image2Pipeline.flat_field - INFO - FlatFieldStep instance created.\n",
      "2018-10-23 19:58:35,160 - stpipe.Image2Pipeline.photom - INFO - PhotomStep instance created.\n",
      "2018-10-23 19:58:35,161 - stpipe.Image2Pipeline.resample - INFO - ResampleStep instance created.\n"
     ]
    }
   ],
   "source": [
    "pipeline = Image2Pipeline(steps=skip)"
   ]
  },
  {
   "cell_type": "code",
   "execution_count": 7,
   "metadata": {},
   "outputs": [],
   "source": [
    "pipeline.flat_field.override_flat = \"flat.fits\""
   ]
  },
  {
   "cell_type": "code",
   "execution_count": 8,
   "metadata": {},
   "outputs": [
    {
     "name": "stderr",
     "output_type": "stream",
     "text": [
      "2018-10-23 19:58:35,206 - stpipe.Image2Pipeline - INFO - Step Image2Pipeline running with args ('asn_subtract_bg_flat.json',).\n",
      "2018-10-23 19:58:35,259 - stpipe.Image2Pipeline - INFO - Prefetching reference files for dataset: 'sci.fits' reftypes = ['dflat', 'fflat', 'sflat', 'wavelengthrange', 'wfssbkg']\n",
      "2018-10-23 19:58:35,260 - stpipe.Image2Pipeline - INFO - Prefetch for DFLAT reference file is 'N/A'.\n",
      "2018-10-23 19:58:35,261 - stpipe.Image2Pipeline - INFO - Prefetch for FFLAT reference file is 'N/A'.\n",
      "2018-10-23 19:58:35,261 - stpipe.Image2Pipeline - INFO - Override for FLAT reference file is '/home/azonca/p/software/IRIS-data-reduction-tests/201810_stpipe_image_bg_subtraction_flat/flat.fits'.\n",
      "2018-10-23 19:58:35,262 - stpipe.Image2Pipeline - INFO - Prefetch for SFLAT reference file is 'N/A'.\n",
      "2018-10-23 19:58:35,262 - stpipe.Image2Pipeline - INFO - Prefetch for WAVELENGTHRANGE reference file is 'N/A'.\n",
      "2018-10-23 19:58:35,262 - stpipe.Image2Pipeline - INFO - Prefetch for WFSSBKG reference file is 'N/A'.\n",
      "2018-10-23 19:58:35,302 - stpipe.Image2Pipeline - INFO - Prefetching reference files for dataset: 'bg.fits' reftypes = ['dflat', 'fflat', 'sflat', 'wavelengthrange', 'wfssbkg']\n",
      "2018-10-23 19:58:35,303 - stpipe.Image2Pipeline - INFO - Prefetch for DFLAT reference file is 'N/A'.\n",
      "2018-10-23 19:58:35,304 - stpipe.Image2Pipeline - INFO - Prefetch for FFLAT reference file is 'N/A'.\n",
      "2018-10-23 19:58:35,304 - stpipe.Image2Pipeline - INFO - Override for FLAT reference file is '/home/azonca/p/software/IRIS-data-reduction-tests/201810_stpipe_image_bg_subtraction_flat/flat.fits'.\n",
      "2018-10-23 19:58:35,305 - stpipe.Image2Pipeline - INFO - Prefetch for SFLAT reference file is 'N/A'.\n",
      "2018-10-23 19:58:35,305 - stpipe.Image2Pipeline - INFO - Prefetch for WAVELENGTHRANGE reference file is 'N/A'.\n",
      "2018-10-23 19:58:35,306 - stpipe.Image2Pipeline - INFO - Prefetch for WFSSBKG reference file is 'N/A'.\n",
      "2018-10-23 19:58:35,306 - stpipe.Image2Pipeline - INFO - Starting calwebb_image2 ...\n",
      "2018-10-23 19:58:35,312 - stpipe.Image2Pipeline - INFO - Processing product test_iris_subtract_bg_flat\n",
      "2018-10-23 19:58:35,313 - stpipe.Image2Pipeline - INFO - Working on input sci.fits ...\n",
      "2018-10-23 19:58:35,402 - stpipe.Image2Pipeline.bkg_subtract - INFO - Step bkg_subtract running with args (<ImageModel(2048, 2048) from sci.fits>, ['bg.fits']).\n",
      "2018-10-23 19:58:36,681 - stpipe.Image2Pipeline.bkg_subtract - INFO - Step bkg_subtract done\n",
      "2018-10-23 19:58:36,746 - stpipe.Image2Pipeline.assign_wcs - INFO - Step assign_wcs running with args (<ImageModel(2048, 2048) from sci.fits>,).\n",
      "2018-10-23 19:58:36,747 - stpipe.Image2Pipeline.assign_wcs - INFO - Step skipped.\n",
      "2018-10-23 19:58:36,749 - stpipe.Image2Pipeline.assign_wcs - INFO - Step assign_wcs done\n",
      "2018-10-23 19:58:36,796 - stpipe.Image2Pipeline.flat_field - INFO - Step flat_field running with args (<ImageModel(2048, 2048) from sci.fits>,).\n",
      "2018-10-23 19:58:36,865 - stpipe.Image2Pipeline.flat_field - WARNING - Missing subarray corner/size keywords in reference file\n",
      "2018-10-23 19:58:36,866 - stpipe.Image2Pipeline.flat_field - WARNING - Setting them to full-frame default values\n",
      "2018-10-23 19:58:36,964 - stpipe.Image2Pipeline.flat_field - INFO - Step flat_field done\n",
      "2018-10-23 19:58:37,031 - stpipe.Image2Pipeline.photom - INFO - Step photom running with args (<ImageModel(2048, 2048) from sci.fits>,).\n",
      "2018-10-23 19:58:37,032 - stpipe.Image2Pipeline.photom - INFO - Step skipped.\n",
      "2018-10-23 19:58:37,033 - stpipe.Image2Pipeline.photom - INFO - Step photom done\n",
      "2018-10-23 19:58:37,075 - stpipe.Image2Pipeline.resample - INFO - Step resample running with args (<ImageModel(2048, 2048) from sci.fits>,).\n",
      "2018-10-23 19:58:37,076 - stpipe.Image2Pipeline.resample - INFO - Step skipped.\n",
      "2018-10-23 19:58:37,077 - stpipe.Image2Pipeline.resample - INFO - Step resample done\n",
      "2018-10-23 19:58:37,134 - stpipe.Image2Pipeline - INFO - Saved model in test_iris_subtract_bg_flat_i2d.fits\n",
      "2018-10-23 19:58:37,134 - stpipe.Image2Pipeline - INFO - Finished processing product test_iris_subtract_bg_flat\n",
      "2018-10-23 19:58:37,185 - stpipe.Image2Pipeline - INFO - Saved model in test_iris_subtract_bg_flat_cal.fits\n",
      "2018-10-23 19:58:37,234 - stpipe.Image2Pipeline - INFO - ... ending calwebb_image2\n",
      "2018-10-23 19:58:37,235 - stpipe.Image2Pipeline - INFO - Step Image2Pipeline done\n"
     ]
    }
   ],
   "source": [
    "pipeline.run(\"asn_subtract_bg_flat.json\")"
   ]
  },
  {
   "cell_type": "code",
   "execution_count": null,
   "metadata": {},
   "outputs": [],
   "source": []
  }
 ],
 "metadata": {
  "kernelspec": {
   "display_name": "jwst",
   "language": "python",
   "name": "jwst"
  },
  "language_info": {
   "codemirror_mode": {
    "name": "ipython",
    "version": 3
   },
   "file_extension": ".py",
   "mimetype": "text/x-python",
   "name": "python",
   "nbconvert_exporter": "python",
   "pygments_lexer": "ipython3",
   "version": "3.6.6"
  }
 },
 "nbformat": 4,
 "nbformat_minor": 2
}
