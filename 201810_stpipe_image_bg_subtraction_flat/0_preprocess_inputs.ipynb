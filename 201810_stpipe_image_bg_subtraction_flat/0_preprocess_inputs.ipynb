{
 "cells": [
  {
   "cell_type": "markdown",
   "metadata": {},
   "source": [
    "# Preprocess the input files\n",
    "\n",
    "The outputs of the IRIS simulator are available in the inputs folder"
   ]
  },
  {
   "cell_type": "code",
   "execution_count": 1,
   "metadata": {},
   "outputs": [
    {
     "name": "stdout",
     "output_type": "stream",
     "text": [
      "total 21M\n",
      "drwxr-xr-x. 2 azonca oirlab  117 Oct 23 16:21 \u001b[0m\u001b[01;34m.\u001b[0m/\n",
      "drwxr-xr-x. 4 azonca oirlab  183 Oct 23 16:40 \u001b[01;34m..\u001b[0m/\n",
      "-rw-r--r--. 1 azonca oirlab 5.4M Oct 23 16:20 \u001b[01;31mraw_background_frame_cal.fits.gz\u001b[0m\n",
      "-rw-r--r--. 1 azonca oirlab 9.7M Oct 23 16:21 \u001b[01;31mraw_flat_frame_cal.fits.gz\u001b[0m\n",
      "-rw-r--r--. 1 azonca oirlab 5.4M Oct 23 16:20 \u001b[01;31mraw_science_frame_sci.fits.gz\u001b[0m\n"
     ]
    }
   ],
   "source": [
    "%ls -lah inputs"
   ]
  },
  {
   "cell_type": "markdown",
   "metadata": {},
   "source": [
    "Currently the JWST pipeline of course does not understand the IRIS keywords, we will implement them in the future, for now we just want to run the JWST pipeline as it is, therefore we strip all of the metadata."
   ]
  },
  {
   "cell_type": "code",
   "execution_count": 2,
   "metadata": {},
   "outputs": [],
   "source": [
    "from astropy.io import fits"
   ]
  },
  {
   "cell_type": "code",
   "execution_count": 3,
   "metadata": {},
   "outputs": [],
   "source": [
    "science_file = fits.open(\"inputs/raw_science_frame_sci.fits.gz\")"
   ]
  },
  {
   "cell_type": "markdown",
   "metadata": {},
   "source": [
    "Then we want to use the convenient `ImageModel` class from the JWST pipeline which is a single object that contains the data (`.data`) array, data quality (`.dq`) array and error (`.err`) array."
   ]
  },
  {
   "cell_type": "code",
   "execution_count": 4,
   "metadata": {},
   "outputs": [],
   "source": [
    "from jwst.datamodels import ImageModel"
   ]
  },
  {
   "cell_type": "code",
   "execution_count": 5,
   "metadata": {},
   "outputs": [],
   "source": [
    "im_science = ImageModel(data=science_file[0].data)"
   ]
  },
  {
   "cell_type": "code",
   "execution_count": 6,
   "metadata": {},
   "outputs": [
    {
     "data": {
      "text/plain": [
       "array([[0, 0, 0, ..., 0, 0, 0],\n",
       "       [0, 0, 0, ..., 0, 0, 0],\n",
       "       [0, 0, 0, ..., 0, 0, 0],\n",
       "       ...,\n",
       "       [0, 0, 0, ..., 0, 0, 0],\n",
       "       [0, 0, 0, ..., 0, 0, 0],\n",
       "       [0, 0, 0, ..., 0, 0, 0]], dtype=uint32)"
      ]
     },
     "execution_count": 6,
     "metadata": {},
     "output_type": "execute_result"
    }
   ],
   "source": [
    "im_science.dq"
   ]
  },
  {
   "cell_type": "code",
   "execution_count": 7,
   "metadata": {},
   "outputs": [
    {
     "data": {
      "text/plain": [
       "array([[0., 0., 0., ..., 0., 0., 0.],\n",
       "       [0., 0., 0., ..., 0., 0., 0.],\n",
       "       [0., 0., 0., ..., 0., 0., 0.],\n",
       "       ...,\n",
       "       [0., 0., 0., ..., 0., 0., 0.],\n",
       "       [0., 0., 0., ..., 0., 0., 0.],\n",
       "       [0., 0., 0., ..., 0., 0., 0.]], dtype=float32)"
      ]
     },
     "execution_count": 7,
     "metadata": {},
     "output_type": "execute_result"
    }
   ],
   "source": [
    "im_science.err"
   ]
  },
  {
   "cell_type": "markdown",
   "metadata": {},
   "source": [
    "It also supports metadata and transparently serializes them to FITS headers when we write this data structure to disk. They are accessible inside the `.meta` attribute, currently we pretend that the data are from NIRCAM, in the future we will implement dedicated analysis modules just for IRIS and this won't be necessary."
   ]
  },
  {
   "cell_type": "code",
   "execution_count": 8,
   "metadata": {},
   "outputs": [],
   "source": [
    "# meta for bg subtraction\n",
    "im_science.meta.instrument.name = \"NIRCAM\"\n",
    "im_science.meta.exposure.type = \"NRC_IMAGE\""
   ]
  },
  {
   "cell_type": "code",
   "execution_count": 9,
   "metadata": {},
   "outputs": [],
   "source": [
    "# extra meta for flat\n",
    "im_science.meta.instrument.detector = \"NRCA1\""
   ]
  },
  {
   "cell_type": "code",
   "execution_count": 10,
   "metadata": {},
   "outputs": [],
   "source": [
    "# flat-fielding also requires the subarray properties to be defined\n",
    "im_science.meta.subarray.name = 'FULL'\n",
    "im_science.meta.subarray.xsize = 2048\n",
    "im_science.meta.subarray.xstart = 1\n",
    "im_science.meta.subarray.ysize = 2048\n",
    "im_science.meta.subarray.ystart = 1"
   ]
  },
  {
   "cell_type": "code",
   "execution_count": 11,
   "metadata": {},
   "outputs": [],
   "source": [
    "im_science.write(\"sci.fits\")"
   ]
  },
  {
   "cell_type": "markdown",
   "metadata": {},
   "source": [
    "We can check what metadata was written to the FITS header"
   ]
  },
  {
   "cell_type": "code",
   "execution_count": 12,
   "metadata": {},
   "outputs": [
    {
     "data": {
      "text/plain": [
       "SIMPLE  =                    T / conforms to FITS standard                      \n",
       "BITPIX  =                    8 / array data type                                \n",
       "NAXIS   =                    0 / number of array dimensions                     \n",
       "EXTEND  =                    T                                                  \n",
       "                                                                                \n",
       "        Level 3 Schema Metadata                                                 \n",
       "                                                                                \n",
       "DATE    = '2018-10-23T16:40:12.099' / [yyyy-mm-ddThh:mm:ss.ss] UTC date file cre\n",
       "FILENAME= 'sci.fits'           / Name of the file                               \n",
       "DATAMODL= 'ImageModel'         / Type of data model                             \n",
       "                                                                                \n",
       "        Instrument configuration information                                    \n",
       "                                                                                \n",
       "INSTRUME= 'NIRCAM  '           / Instrument used to acquire the data            \n",
       "DETECTOR= 'NRCA1   '           / Name of detector used to acquire the data      \n",
       "                                                                                \n",
       "        Exposure parameters                                                     \n",
       "                                                                                \n",
       "EXP_TYPE= 'NRC_IMAGE'          / Type of data in the exposure                   \n",
       "                                                                                \n",
       "        Subarray parameters                                                     \n",
       "                                                                                \n",
       "SUBARRAY= 'FULL    '           / Subarray used                                  \n",
       "SUBSTRT1=                    1 / Starting pixel in axis 1 direction             \n",
       "SUBSTRT2=                    1 / Starting pixel in axis 2 direction             \n",
       "SUBSIZE1=                 2048 / Number of pixels in axis 1 direction           \n",
       "SUBSIZE2=                 2048 / Number of pixels in axis 2 direction           "
      ]
     },
     "execution_count": 12,
     "metadata": {},
     "output_type": "execute_result"
    }
   ],
   "source": [
    "fits.open(\"sci.fits\")[0].header"
   ]
  },
  {
   "cell_type": "markdown",
   "metadata": {},
   "source": [
    "## Preprocess the Background frame\n",
    "\n",
    "We can repeat the same processing for the background frame, basically we just need to remove the IRIS headers which are not recognized by `stpipe` and write a few JWST metadata:"
   ]
  },
  {
   "cell_type": "code",
   "execution_count": 13,
   "metadata": {},
   "outputs": [],
   "source": [
    "im_bg = ImageModel(data=fits.open(\"inputs/raw_background_frame_cal.fits.gz\")[0].data)\n",
    "im_bg.meta.instrument.name = \"NIRCAM\"\n",
    "im_bg.meta.exposure.type = \"NRC_IMAGE\""
   ]
  },
  {
   "cell_type": "code",
   "execution_count": 14,
   "metadata": {},
   "outputs": [],
   "source": [
    "im_bg.write(\"bg.fits\")"
   ]
  },
  {
   "cell_type": "markdown",
   "metadata": {},
   "source": [
    "## Preprocess the Flat frame\n",
    "\n",
    "The JWST flat fielding module assumes that the Flat frame is already background subtracted and calibrated, therefore we need to do it beforehand"
   ]
  },
  {
   "cell_type": "code",
   "execution_count": 15,
   "metadata": {},
   "outputs": [],
   "source": [
    "flat = fits.open(\"inputs/raw_flat_frame_cal.fits.gz\")"
   ]
  },
  {
   "cell_type": "code",
   "execution_count": 16,
   "metadata": {},
   "outputs": [],
   "source": [
    "im_flat =  ImageModel(data=flat[0].data)"
   ]
  },
  {
   "cell_type": "code",
   "execution_count": 17,
   "metadata": {},
   "outputs": [],
   "source": [
    "im_flat.meta.instrument.name = \"NIRCAM\"\n",
    "im_flat.meta.exposure.type = \"NRC_IMAGE\""
   ]
  },
  {
   "cell_type": "code",
   "execution_count": 18,
   "metadata": {},
   "outputs": [],
   "source": [
    "im_flat.data -= im_bg.data\n",
    "im_flat.data /= im_flat.data.max()"
   ]
  },
  {
   "cell_type": "code",
   "execution_count": 19,
   "metadata": {},
   "outputs": [],
   "source": [
    "im_flat.write(\"flat.fits\")"
   ]
  }
 ],
 "metadata": {
  "kernelspec": {
   "display_name": "jwst",
   "language": "python",
   "name": "jwst"
  },
  "language_info": {
   "codemirror_mode": {
    "name": "ipython",
    "version": 3
   },
   "file_extension": ".py",
   "mimetype": "text/x-python",
   "name": "python",
   "nbconvert_exporter": "python",
   "pygments_lexer": "ipython3",
   "version": "3.6.6"
  }
 },
 "nbformat": 4,
 "nbformat_minor": 2
}
