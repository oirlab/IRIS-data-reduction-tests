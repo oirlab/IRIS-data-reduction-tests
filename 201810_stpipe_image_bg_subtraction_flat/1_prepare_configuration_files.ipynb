{
 "cells": [
  {
   "cell_type": "markdown",
   "metadata": {},
   "source": [
    "# Run the pipeline from the command line\n",
    "\n",
    "The JWST pipeline can either be executed on the command line with `strun` or in Python, first we will execute it from the command line.\n",
    "\n",
    "`strun` takes as the first argument a configuration file and as second argument the data.\n",
    "\n",
    "## Prepare the configuration file\n",
    "\n",
    "`stpipe` has many analysis modules already implemented, see the Github repository:\n",
    "\n",
    "* <https://github.com/spacetelescope/jwst/tree/master/jwst>\n",
    "\n",
    "moreover it has some complete pipelines which execute a set of modules and pipe the output of a module to the next without ever writing it to disk.\n",
    "\n",
    "In this example we use the `jwst.pipeline.Image2Pipeline` pipeline which is the Level 2 processing pipeline for imagers. It is composed of 5 steps:\n",
    "\n",
    "* `bkg_subtract`\n",
    "* `assign_wcs`\n",
    "* `flat_field`\n",
    "* `photom`\n",
    "* `resample`\n",
    "\n",
    "We can configure it by writing a configuration file, in particular we can set `skip=True` to disable the steps we are not interested in.\n",
    "\n",
    "We can also have **nested** configuration files, for example for flat-fielding, we can then write the `image2.cfg` configuration file:"
   ]
  },
  {
   "cell_type": "code",
   "execution_count": 3,
   "metadata": {},
   "outputs": [
    {
     "name": "stdout",
     "output_type": "stream",
     "text": [
      "Overwriting image2.cfg\n"
     ]
    }
   ],
   "source": [
    "%%writefile image2.cfg\n",
    "\n",
    "name = \"Image2Pipeline\"\n",
    "class = \"jwst.pipeline.Image2Pipeline\"\n",
    "save_results = True\n",
    "\n",
    "    [steps]\n",
    "      [[bkg_subtract]]\n",
    "      [[assign_wcs]]\n",
    "        skip = True\n",
    "      [[flat_field]]\n",
    "        config_file = flat_field.cfg\n",
    "      [[photom]]\n",
    "        skip = True\n",
    "      [[resample]]\n",
    "        skip = True"
   ]
  },
  {
   "cell_type": "markdown",
   "metadata": {},
   "source": [
    "We then have a dedicated configuration file for flat fielding.\n",
    "By default the pipeline would connect to the CDRS (the JWST database) to get a suitable flat for the current exposure, but we can override that with a file that we provide:"
   ]
  },
  {
   "cell_type": "code",
   "execution_count": 4,
   "metadata": {},
   "outputs": [
    {
     "name": "stdout",
     "output_type": "stream",
     "text": [
      "Writing flat_field.cfg\n"
     ]
    }
   ],
   "source": [
    "%%writefile flat_field.cfg\n",
    "\n",
    "name = \"flat_field\" \n",
    "class = \"jwst.flatfield.FlatFieldStep\"\n",
    "\n",
    "# Optional filename suffix for output flats (only for MOS data).\n",
    "flat_suffix = None\n",
    "override_flat = 'flat.fits'"
   ]
  },
  {
   "cell_type": "markdown",
   "metadata": {},
   "source": [
    "## Prepare the input data association\n",
    "\n",
    "The second argument to the pipeline is generally an input file. In our case however, we need 2 (or more) input files, therefore we can use an association, see the docs: <https://jwst-pipeline.readthedocs.io/en/latest/jwst/associations/overview.html>.\n",
    "\n",
    "It basically is a Python dictionary that defines a set of inputs and their role in the current pipeline, it is written as a JSON file."
   ]
  },
  {
   "cell_type": "code",
   "execution_count": 6,
   "metadata": {},
   "outputs": [
    {
     "name": "stdout",
     "output_type": "stream",
     "text": [
      "Overwriting asn_subtract_bg_flat.json\n"
     ]
    }
   ],
   "source": [
    "%%writefile asn_subtract_bg_flat.json\n",
    "{\n",
    "    \"asn_rule\": \"Asn_Lv2Image\",\n",
    "    \"asn_pool\": \"pool\",\n",
    "    \"program\": \"82600\",\n",
    "    \"asn_type\": \"image2\",\n",
    "    \"products\": [\n",
    "        {\n",
    "            \"name\": \"test_iris_subtract_bg_flat\",\n",
    "            \"members\": [\n",
    "                {\n",
    "                    \"expname\": \"sci.fits\",\n",
    "                    \"exptype\": \"science\"\n",
    "                },\n",
    "                {\n",
    "                    \"expname\": \"bg.fits\",\n",
    "                    \"exptype\": \"background\"\n",
    "                }\n",
    "            ]\n",
    "        }\n",
    "    ]\n",
    "}"
   ]
  },
  {
   "cell_type": "markdown",
   "metadata": {},
   "source": [
    "The pipeline uses these inputs for processing, for example if we provide more exposures with type \"background\", it is going to average them and apply sigma clipping."
   ]
  },
  {
   "cell_type": "code",
   "execution_count": null,
   "metadata": {},
   "outputs": [],
   "source": []
  }
 ],
 "metadata": {
  "kernelspec": {
   "display_name": "jwst",
   "language": "python",
   "name": "jwst"
  },
  "language_info": {
   "codemirror_mode": {
    "name": "ipython",
    "version": 3
   },
   "file_extension": ".py",
   "mimetype": "text/x-python",
   "name": "python",
   "nbconvert_exporter": "python",
   "pygments_lexer": "ipython3",
   "version": "3.6.6"
  }
 },
 "nbformat": 4,
 "nbformat_minor": 2
}
